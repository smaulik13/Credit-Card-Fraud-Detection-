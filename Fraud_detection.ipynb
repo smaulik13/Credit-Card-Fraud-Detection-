{
  "nbformat": 4,
  "nbformat_minor": 0,
  "metadata": {
    "colab": {
      "name": "Fraud detection.ipynb",
      "provenance": []
    },
    "kernelspec": {
      "name": "python3",
      "display_name": "Python 3"
    },
    "language_info": {
      "name": "python"
    }
  },
  "cells": [
    {
      "cell_type": "markdown",
      "metadata": {
        "id": "Yl5Rr-BPeui9"
      },
      "source": [
        "# Importing the Dependencies\n"
      ]
    },
    {
      "cell_type": "code",
      "metadata": {
        "id": "BtumyLk3dm-4"
      },
      "source": [
        "import numpy as np\n",
        "import pandas as pd\n",
        "from sklearn.model_selection import train_test_split\n",
        "from sklearn import svm\n",
        "from sklearn.metrics import accuracy_score"
      ],
      "execution_count": 4,
      "outputs": []
    },
    {
      "cell_type": "code",
      "metadata": {
        "id": "PZnKgyfzdug4"
      },
      "source": [
        "# loading the dataset to a Pandas DataFrame\n",
        "credit_card_data = pd.read_csv('/content/creditcard.csv')"
      ],
      "execution_count": 6,
      "outputs": []
    },
    {
      "cell_type": "code",
      "metadata": {
        "colab": {
          "base_uri": "https://localhost:8080/",
          "height": 223
        },
        "id": "w7WB7vrLe_bC",
        "outputId": "3aa28b24-3d69-4db8-af6b-1b631ed7b4de"
      },
      "source": [
        "# first 5 rows of the dataset\n",
        "credit_card_data.head()"
      ],
      "execution_count": 7,
      "outputs": [
        {
          "output_type": "execute_result",
          "data": {
            "text/html": [
              "<div>\n",
              "<style scoped>\n",
              "    .dataframe tbody tr th:only-of-type {\n",
              "        vertical-align: middle;\n",
              "    }\n",
              "\n",
              "    .dataframe tbody tr th {\n",
              "        vertical-align: top;\n",
              "    }\n",
              "\n",
              "    .dataframe thead th {\n",
              "        text-align: right;\n",
              "    }\n",
              "</style>\n",
              "<table border=\"1\" class=\"dataframe\">\n",
              "  <thead>\n",
              "    <tr style=\"text-align: right;\">\n",
              "      <th></th>\n",
              "      <th>Time</th>\n",
              "      <th>V1</th>\n",
              "      <th>V2</th>\n",
              "      <th>V3</th>\n",
              "      <th>V4</th>\n",
              "      <th>V5</th>\n",
              "      <th>V6</th>\n",
              "      <th>V7</th>\n",
              "      <th>V8</th>\n",
              "      <th>V9</th>\n",
              "      <th>V10</th>\n",
              "      <th>V11</th>\n",
              "      <th>V12</th>\n",
              "      <th>V13</th>\n",
              "      <th>V14</th>\n",
              "      <th>V15</th>\n",
              "      <th>V16</th>\n",
              "      <th>V17</th>\n",
              "      <th>V18</th>\n",
              "      <th>V19</th>\n",
              "      <th>V20</th>\n",
              "      <th>V21</th>\n",
              "      <th>V22</th>\n",
              "      <th>V23</th>\n",
              "      <th>V24</th>\n",
              "      <th>V25</th>\n",
              "      <th>V26</th>\n",
              "      <th>V27</th>\n",
              "      <th>V28</th>\n",
              "      <th>Amount</th>\n",
              "      <th>Class</th>\n",
              "    </tr>\n",
              "  </thead>\n",
              "  <tbody>\n",
              "    <tr>\n",
              "      <th>0</th>\n",
              "      <td>0</td>\n",
              "      <td>-1.359807</td>\n",
              "      <td>-0.072781</td>\n",
              "      <td>2.536347</td>\n",
              "      <td>1.378155</td>\n",
              "      <td>-0.338321</td>\n",
              "      <td>0.462388</td>\n",
              "      <td>0.239599</td>\n",
              "      <td>0.098698</td>\n",
              "      <td>0.363787</td>\n",
              "      <td>0.090794</td>\n",
              "      <td>-0.551600</td>\n",
              "      <td>-0.617801</td>\n",
              "      <td>-0.991390</td>\n",
              "      <td>-0.311169</td>\n",
              "      <td>1.468177</td>\n",
              "      <td>-0.470401</td>\n",
              "      <td>0.207971</td>\n",
              "      <td>0.025791</td>\n",
              "      <td>0.403993</td>\n",
              "      <td>0.251412</td>\n",
              "      <td>-0.018307</td>\n",
              "      <td>0.277838</td>\n",
              "      <td>-0.110474</td>\n",
              "      <td>0.066928</td>\n",
              "      <td>0.128539</td>\n",
              "      <td>-0.189115</td>\n",
              "      <td>0.133558</td>\n",
              "      <td>-0.021053</td>\n",
              "      <td>149.62</td>\n",
              "      <td>0.0</td>\n",
              "    </tr>\n",
              "    <tr>\n",
              "      <th>1</th>\n",
              "      <td>0</td>\n",
              "      <td>1.191857</td>\n",
              "      <td>0.266151</td>\n",
              "      <td>0.166480</td>\n",
              "      <td>0.448154</td>\n",
              "      <td>0.060018</td>\n",
              "      <td>-0.082361</td>\n",
              "      <td>-0.078803</td>\n",
              "      <td>0.085102</td>\n",
              "      <td>-0.255425</td>\n",
              "      <td>-0.166974</td>\n",
              "      <td>1.612727</td>\n",
              "      <td>1.065235</td>\n",
              "      <td>0.489095</td>\n",
              "      <td>-0.143772</td>\n",
              "      <td>0.635558</td>\n",
              "      <td>0.463917</td>\n",
              "      <td>-0.114805</td>\n",
              "      <td>-0.183361</td>\n",
              "      <td>-0.145783</td>\n",
              "      <td>-0.069083</td>\n",
              "      <td>-0.225775</td>\n",
              "      <td>-0.638672</td>\n",
              "      <td>0.101288</td>\n",
              "      <td>-0.339846</td>\n",
              "      <td>0.167170</td>\n",
              "      <td>0.125895</td>\n",
              "      <td>-0.008983</td>\n",
              "      <td>0.014724</td>\n",
              "      <td>2.69</td>\n",
              "      <td>0.0</td>\n",
              "    </tr>\n",
              "    <tr>\n",
              "      <th>2</th>\n",
              "      <td>1</td>\n",
              "      <td>-1.358354</td>\n",
              "      <td>-1.340163</td>\n",
              "      <td>1.773209</td>\n",
              "      <td>0.379780</td>\n",
              "      <td>-0.503198</td>\n",
              "      <td>1.800499</td>\n",
              "      <td>0.791461</td>\n",
              "      <td>0.247676</td>\n",
              "      <td>-1.514654</td>\n",
              "      <td>0.207643</td>\n",
              "      <td>0.624501</td>\n",
              "      <td>0.066084</td>\n",
              "      <td>0.717293</td>\n",
              "      <td>-0.165946</td>\n",
              "      <td>2.345865</td>\n",
              "      <td>-2.890083</td>\n",
              "      <td>1.109969</td>\n",
              "      <td>-0.121359</td>\n",
              "      <td>-2.261857</td>\n",
              "      <td>0.524980</td>\n",
              "      <td>0.247998</td>\n",
              "      <td>0.771679</td>\n",
              "      <td>0.909412</td>\n",
              "      <td>-0.689281</td>\n",
              "      <td>-0.327642</td>\n",
              "      <td>-0.139097</td>\n",
              "      <td>-0.055353</td>\n",
              "      <td>-0.059752</td>\n",
              "      <td>378.66</td>\n",
              "      <td>0.0</td>\n",
              "    </tr>\n",
              "    <tr>\n",
              "      <th>3</th>\n",
              "      <td>1</td>\n",
              "      <td>-0.966272</td>\n",
              "      <td>-0.185226</td>\n",
              "      <td>1.792993</td>\n",
              "      <td>-0.863291</td>\n",
              "      <td>-0.010309</td>\n",
              "      <td>1.247203</td>\n",
              "      <td>0.237609</td>\n",
              "      <td>0.377436</td>\n",
              "      <td>-1.387024</td>\n",
              "      <td>-0.054952</td>\n",
              "      <td>-0.226487</td>\n",
              "      <td>0.178228</td>\n",
              "      <td>0.507757</td>\n",
              "      <td>-0.287924</td>\n",
              "      <td>-0.631418</td>\n",
              "      <td>-1.059647</td>\n",
              "      <td>-0.684093</td>\n",
              "      <td>1.965775</td>\n",
              "      <td>-1.232622</td>\n",
              "      <td>-0.208038</td>\n",
              "      <td>-0.108300</td>\n",
              "      <td>0.005274</td>\n",
              "      <td>-0.190321</td>\n",
              "      <td>-1.175575</td>\n",
              "      <td>0.647376</td>\n",
              "      <td>-0.221929</td>\n",
              "      <td>0.062723</td>\n",
              "      <td>0.061458</td>\n",
              "      <td>123.50</td>\n",
              "      <td>0.0</td>\n",
              "    </tr>\n",
              "    <tr>\n",
              "      <th>4</th>\n",
              "      <td>2</td>\n",
              "      <td>-1.158233</td>\n",
              "      <td>0.877737</td>\n",
              "      <td>1.548718</td>\n",
              "      <td>0.403034</td>\n",
              "      <td>-0.407193</td>\n",
              "      <td>0.095921</td>\n",
              "      <td>0.592941</td>\n",
              "      <td>-0.270533</td>\n",
              "      <td>0.817739</td>\n",
              "      <td>0.753074</td>\n",
              "      <td>-0.822843</td>\n",
              "      <td>0.538196</td>\n",
              "      <td>1.345852</td>\n",
              "      <td>-1.119670</td>\n",
              "      <td>0.175121</td>\n",
              "      <td>-0.451449</td>\n",
              "      <td>-0.237033</td>\n",
              "      <td>-0.038195</td>\n",
              "      <td>0.803487</td>\n",
              "      <td>0.408542</td>\n",
              "      <td>-0.009431</td>\n",
              "      <td>0.798278</td>\n",
              "      <td>-0.137458</td>\n",
              "      <td>0.141267</td>\n",
              "      <td>-0.206010</td>\n",
              "      <td>0.502292</td>\n",
              "      <td>0.219422</td>\n",
              "      <td>0.215153</td>\n",
              "      <td>69.99</td>\n",
              "      <td>0.0</td>\n",
              "    </tr>\n",
              "  </tbody>\n",
              "</table>\n",
              "</div>"
            ],
            "text/plain": [
              "   Time        V1        V2        V3  ...       V27       V28  Amount  Class\n",
              "0     0 -1.359807 -0.072781  2.536347  ...  0.133558 -0.021053  149.62    0.0\n",
              "1     0  1.191857  0.266151  0.166480  ... -0.008983  0.014724    2.69    0.0\n",
              "2     1 -1.358354 -1.340163  1.773209  ... -0.055353 -0.059752  378.66    0.0\n",
              "3     1 -0.966272 -0.185226  1.792993  ...  0.062723  0.061458  123.50    0.0\n",
              "4     2 -1.158233  0.877737  1.548718  ...  0.219422  0.215153   69.99    0.0\n",
              "\n",
              "[5 rows x 31 columns]"
            ]
          },
          "metadata": {
            "tags": []
          },
          "execution_count": 7
        }
      ]
    },
    {
      "cell_type": "code",
      "metadata": {
        "colab": {
          "base_uri": "https://localhost:8080/"
        },
        "id": "hVRU220OfBCH",
        "outputId": "42baa06b-64b8-4a1c-8cd5-bdd5d0affa14"
      },
      "source": [
        "# dataset informations\n",
        "credit_card_data.info()"
      ],
      "execution_count": 8,
      "outputs": [
        {
          "output_type": "stream",
          "text": [
            "<class 'pandas.core.frame.DataFrame'>\n",
            "RangeIndex: 11959 entries, 0 to 11958\n",
            "Data columns (total 31 columns):\n",
            " #   Column  Non-Null Count  Dtype  \n",
            "---  ------  --------------  -----  \n",
            " 0   Time    11959 non-null  int64  \n",
            " 1   V1      11959 non-null  float64\n",
            " 2   V2      11959 non-null  float64\n",
            " 3   V3      11959 non-null  float64\n",
            " 4   V4      11959 non-null  float64\n",
            " 5   V5      11959 non-null  float64\n",
            " 6   V6      11959 non-null  float64\n",
            " 7   V7      11959 non-null  float64\n",
            " 8   V8      11959 non-null  float64\n",
            " 9   V9      11959 non-null  float64\n",
            " 10  V10     11959 non-null  float64\n",
            " 11  V11     11959 non-null  float64\n",
            " 12  V12     11959 non-null  float64\n",
            " 13  V13     11959 non-null  float64\n",
            " 14  V14     11959 non-null  float64\n",
            " 15  V15     11959 non-null  float64\n",
            " 16  V16     11959 non-null  float64\n",
            " 17  V17     11959 non-null  float64\n",
            " 18  V18     11959 non-null  float64\n",
            " 19  V19     11959 non-null  float64\n",
            " 20  V20     11958 non-null  float64\n",
            " 21  V21     11958 non-null  float64\n",
            " 22  V22     11958 non-null  float64\n",
            " 23  V23     11958 non-null  float64\n",
            " 24  V24     11958 non-null  float64\n",
            " 25  V25     11958 non-null  float64\n",
            " 26  V26     11958 non-null  float64\n",
            " 27  V27     11958 non-null  float64\n",
            " 28  V28     11958 non-null  float64\n",
            " 29  Amount  11958 non-null  float64\n",
            " 30  Class   11958 non-null  float64\n",
            "dtypes: float64(30), int64(1)\n",
            "memory usage: 2.8 MB\n"
          ],
          "name": "stdout"
        }
      ]
    },
    {
      "cell_type": "code",
      "metadata": {
        "colab": {
          "base_uri": "https://localhost:8080/"
        },
        "id": "l0KQ0tiAfpki",
        "outputId": "146a9dc5-3094-4792-81c8-2218bd00ef22"
      },
      "source": [
        "# checking the number of missing values in each column\n",
        "credit_card_data.isnull().sum()"
      ],
      "execution_count": 9,
      "outputs": [
        {
          "output_type": "execute_result",
          "data": {
            "text/plain": [
              "Time      0\n",
              "V1        0\n",
              "V2        0\n",
              "V3        0\n",
              "V4        0\n",
              "V5        0\n",
              "V6        0\n",
              "V7        0\n",
              "V8        0\n",
              "V9        0\n",
              "V10       0\n",
              "V11       0\n",
              "V12       0\n",
              "V13       0\n",
              "V14       0\n",
              "V15       0\n",
              "V16       0\n",
              "V17       0\n",
              "V18       0\n",
              "V19       0\n",
              "V20       1\n",
              "V21       1\n",
              "V22       1\n",
              "V23       1\n",
              "V24       1\n",
              "V25       1\n",
              "V26       1\n",
              "V27       1\n",
              "V28       1\n",
              "Amount    1\n",
              "Class     1\n",
              "dtype: int64"
            ]
          },
          "metadata": {
            "tags": []
          },
          "execution_count": 9
        }
      ]
    },
    {
      "cell_type": "code",
      "metadata": {
        "colab": {
          "base_uri": "https://localhost:8080/"
        },
        "id": "0Aoe-W6WftN9",
        "outputId": "da739b5c-6667-470a-9b80-1a7b934a9e96"
      },
      "source": [
        "# distribution of legit transactions & fraudulent transactions\n",
        "credit_card_data['Class'].value_counts()"
      ],
      "execution_count": 10,
      "outputs": [
        {
          "output_type": "execute_result",
          "data": {
            "text/plain": [
              "0.0    11906\n",
              "1.0       52\n",
              "Name: Class, dtype: int64"
            ]
          },
          "metadata": {
            "tags": []
          },
          "execution_count": 10
        }
      ]
    },
    {
      "cell_type": "markdown",
      "metadata": {
        "id": "W2z6c67Kf8Bb"
      },
      "source": [
        "This Dataset is highly unblanced"
      ]
    },
    {
      "cell_type": "markdown",
      "metadata": {
        "id": "ZyzAEIyUgBo6"
      },
      "source": [
        "0 --> Normal Transaction\n",
        "\n",
        "1 --> fraudulent transaction"
      ]
    },
    {
      "cell_type": "code",
      "metadata": {
        "id": "iNtX8Ba6fv4Q"
      },
      "source": [
        "# separating the data for analysis\n",
        "legit = credit_card_data[credit_card_data.Class == 0]\n",
        "fraud = credit_card_data[credit_card_data.Class == 1]"
      ],
      "execution_count": 12,
      "outputs": []
    },
    {
      "cell_type": "code",
      "metadata": {
        "colab": {
          "base_uri": "https://localhost:8080/"
        },
        "id": "6dLCh7DEgLF1",
        "outputId": "1b15eeed-630c-48b3-f7f7-3f014b66cc2f"
      },
      "source": [
        "print(legit.shape)\n",
        "print(fraud.shape)"
      ],
      "execution_count": 13,
      "outputs": [
        {
          "output_type": "stream",
          "text": [
            "(11906, 31)\n",
            "(52, 31)\n"
          ],
          "name": "stdout"
        }
      ]
    },
    {
      "cell_type": "code",
      "metadata": {
        "colab": {
          "base_uri": "https://localhost:8080/"
        },
        "id": "KLEqTD34gLez",
        "outputId": "d59eae36-9206-4a44-b8a1-8b01edef0d88"
      },
      "source": [
        "# statistical measures of the data\n",
        "legit.Amount.describe()"
      ],
      "execution_count": 14,
      "outputs": [
        {
          "output_type": "execute_result",
          "data": {
            "text/plain": [
              "count    11906.000000\n",
              "mean        62.198127\n",
              "std        177.379105\n",
              "min          0.000000\n",
              "25%          5.292500\n",
              "50%         15.950000\n",
              "75%         50.000000\n",
              "max       7712.430000\n",
              "Name: Amount, dtype: float64"
            ]
          },
          "metadata": {
            "tags": []
          },
          "execution_count": 14
        }
      ]
    },
    {
      "cell_type": "code",
      "metadata": {
        "colab": {
          "base_uri": "https://localhost:8080/"
        },
        "id": "6aBImR38gPcs",
        "outputId": "f382294f-db62-4087-f51f-dcbcb8cabced"
      },
      "source": [
        "fraud.Amount.describe()"
      ],
      "execution_count": 15,
      "outputs": [
        {
          "output_type": "execute_result",
          "data": {
            "text/plain": [
              "count      52.000000\n",
              "mean       97.724808\n",
              "std       321.188775\n",
              "min         0.000000\n",
              "25%         1.000000\n",
              "50%         1.000000\n",
              "75%         1.772500\n",
              "max      1809.680000\n",
              "Name: Amount, dtype: float64"
            ]
          },
          "metadata": {
            "tags": []
          },
          "execution_count": 15
        }
      ]
    },
    {
      "cell_type": "code",
      "metadata": {
        "colab": {
          "base_uri": "https://localhost:8080/",
          "height": 162
        },
        "id": "nUzMsaw5gREp",
        "outputId": "cf5929ea-bd8c-4789-f2fe-18d150330e23"
      },
      "source": [
        "# compare the values for both transactions\n",
        "credit_card_data.groupby('Class').mean()"
      ],
      "execution_count": 16,
      "outputs": [
        {
          "output_type": "execute_result",
          "data": {
            "text/html": [
              "<div>\n",
              "<style scoped>\n",
              "    .dataframe tbody tr th:only-of-type {\n",
              "        vertical-align: middle;\n",
              "    }\n",
              "\n",
              "    .dataframe tbody tr th {\n",
              "        vertical-align: top;\n",
              "    }\n",
              "\n",
              "    .dataframe thead th {\n",
              "        text-align: right;\n",
              "    }\n",
              "</style>\n",
              "<table border=\"1\" class=\"dataframe\">\n",
              "  <thead>\n",
              "    <tr style=\"text-align: right;\">\n",
              "      <th></th>\n",
              "      <th>Time</th>\n",
              "      <th>V1</th>\n",
              "      <th>V2</th>\n",
              "      <th>V3</th>\n",
              "      <th>V4</th>\n",
              "      <th>V5</th>\n",
              "      <th>V6</th>\n",
              "      <th>V7</th>\n",
              "      <th>V8</th>\n",
              "      <th>V9</th>\n",
              "      <th>V10</th>\n",
              "      <th>V11</th>\n",
              "      <th>V12</th>\n",
              "      <th>V13</th>\n",
              "      <th>V14</th>\n",
              "      <th>V15</th>\n",
              "      <th>V16</th>\n",
              "      <th>V17</th>\n",
              "      <th>V18</th>\n",
              "      <th>V19</th>\n",
              "      <th>V20</th>\n",
              "      <th>V21</th>\n",
              "      <th>V22</th>\n",
              "      <th>V23</th>\n",
              "      <th>V24</th>\n",
              "      <th>V25</th>\n",
              "      <th>V26</th>\n",
              "      <th>V27</th>\n",
              "      <th>V28</th>\n",
              "      <th>Amount</th>\n",
              "    </tr>\n",
              "    <tr>\n",
              "      <th>Class</th>\n",
              "      <th></th>\n",
              "      <th></th>\n",
              "      <th></th>\n",
              "      <th></th>\n",
              "      <th></th>\n",
              "      <th></th>\n",
              "      <th></th>\n",
              "      <th></th>\n",
              "      <th></th>\n",
              "      <th></th>\n",
              "      <th></th>\n",
              "      <th></th>\n",
              "      <th></th>\n",
              "      <th></th>\n",
              "      <th></th>\n",
              "      <th></th>\n",
              "      <th></th>\n",
              "      <th></th>\n",
              "      <th></th>\n",
              "      <th></th>\n",
              "      <th></th>\n",
              "      <th></th>\n",
              "      <th></th>\n",
              "      <th></th>\n",
              "      <th></th>\n",
              "      <th></th>\n",
              "      <th></th>\n",
              "      <th></th>\n",
              "      <th></th>\n",
              "      <th></th>\n",
              "    </tr>\n",
              "  </thead>\n",
              "  <tbody>\n",
              "    <tr>\n",
              "      <th>0.0</th>\n",
              "      <td>7993.389048</td>\n",
              "      <td>-0.200839</td>\n",
              "      <td>0.259753</td>\n",
              "      <td>0.929229</td>\n",
              "      <td>0.255987</td>\n",
              "      <td>-0.076685</td>\n",
              "      <td>0.149326</td>\n",
              "      <td>-0.097364</td>\n",
              "      <td>-0.053087</td>\n",
              "      <td>0.927305</td>\n",
              "      <td>-0.256049</td>\n",
              "      <td>0.794760</td>\n",
              "      <td>-1.403693</td>\n",
              "      <td>0.936354</td>\n",
              "      <td>0.827956</td>\n",
              "      <td>-0.178954</td>\n",
              "      <td>-0.003069</td>\n",
              "      <td>0.412508</td>\n",
              "      <td>-0.012325</td>\n",
              "      <td>-0.067319</td>\n",
              "      <td>0.020836</td>\n",
              "      <td>-0.063076</td>\n",
              "      <td>-0.154427</td>\n",
              "      <td>-0.032369</td>\n",
              "      <td>0.018962</td>\n",
              "      <td>0.105861</td>\n",
              "      <td>0.061825</td>\n",
              "      <td>0.005330</td>\n",
              "      <td>0.000012</td>\n",
              "      <td>62.198127</td>\n",
              "    </tr>\n",
              "    <tr>\n",
              "      <th>1.0</th>\n",
              "      <td>11569.615385</td>\n",
              "      <td>-3.769104</td>\n",
              "      <td>4.258027</td>\n",
              "      <td>-8.202329</td>\n",
              "      <td>6.396396</td>\n",
              "      <td>-2.342431</td>\n",
              "      <td>-1.990562</td>\n",
              "      <td>-5.740207</td>\n",
              "      <td>0.950650</td>\n",
              "      <td>-2.729769</td>\n",
              "      <td>-7.089604</td>\n",
              "      <td>6.677641</td>\n",
              "      <td>-10.357643</td>\n",
              "      <td>0.519618</td>\n",
              "      <td>-9.729181</td>\n",
              "      <td>-0.244081</td>\n",
              "      <td>-5.034546</td>\n",
              "      <td>-7.163796</td>\n",
              "      <td>-2.346145</td>\n",
              "      <td>0.250318</td>\n",
              "      <td>0.411236</td>\n",
              "      <td>0.305259</td>\n",
              "      <td>-0.021762</td>\n",
              "      <td>-0.340563</td>\n",
              "      <td>-0.406311</td>\n",
              "      <td>-0.139505</td>\n",
              "      <td>0.306967</td>\n",
              "      <td>0.692927</td>\n",
              "      <td>0.059751</td>\n",
              "      <td>97.724808</td>\n",
              "    </tr>\n",
              "  </tbody>\n",
              "</table>\n",
              "</div>"
            ],
            "text/plain": [
              "               Time        V1        V2  ...       V27       V28     Amount\n",
              "Class                                    ...                               \n",
              "0.0     7993.389048 -0.200839  0.259753  ...  0.005330  0.000012  62.198127\n",
              "1.0    11569.615385 -3.769104  4.258027  ...  0.692927  0.059751  97.724808\n",
              "\n",
              "[2 rows x 30 columns]"
            ]
          },
          "metadata": {
            "tags": []
          },
          "execution_count": 16
        }
      ]
    },
    {
      "cell_type": "markdown",
      "metadata": {
        "id": "a4FihemZgv8M"
      },
      "source": [
        "Under-Sampling"
      ]
    },
    {
      "cell_type": "markdown",
      "metadata": {
        "id": "vrDh1ErEgy3W"
      },
      "source": [
        "\n",
        "Build a sample dataset containing similar distribution of normal transactions and Fraudulent Transactions\n",
        "\n",
        "Number of Fraudulent Transactions --> 52"
      ]
    },
    {
      "cell_type": "code",
      "metadata": {
        "id": "bvZTyNhNgTlC"
      },
      "source": [
        "legit_sample = legit.sample(n=52)"
      ],
      "execution_count": 31,
      "outputs": []
    },
    {
      "cell_type": "markdown",
      "metadata": {
        "id": "Y4f41bnBhCVs"
      },
      "source": [
        "Concatenating two DataFrames"
      ]
    },
    {
      "cell_type": "code",
      "metadata": {
        "id": "73wtsmqqhFQn"
      },
      "source": [
        "new_dataset = pd.concat([legit_sample, fraud], axis=0)"
      ],
      "execution_count": 42,
      "outputs": []
    },
    {
      "cell_type": "code",
      "metadata": {
        "colab": {
          "base_uri": "https://localhost:8080/",
          "height": 223
        },
        "id": "fOIHR8fshHJg",
        "outputId": "bba5158b-2b0f-4845-d89f-cca55d345ee6"
      },
      "source": [
        "new_dataset.reset_index(drop=True,inplace=True)\n",
        "new_dataset.head()"
      ],
      "execution_count": 44,
      "outputs": [
        {
          "output_type": "execute_result",
          "data": {
            "text/html": [
              "<div>\n",
              "<style scoped>\n",
              "    .dataframe tbody tr th:only-of-type {\n",
              "        vertical-align: middle;\n",
              "    }\n",
              "\n",
              "    .dataframe tbody tr th {\n",
              "        vertical-align: top;\n",
              "    }\n",
              "\n",
              "    .dataframe thead th {\n",
              "        text-align: right;\n",
              "    }\n",
              "</style>\n",
              "<table border=\"1\" class=\"dataframe\">\n",
              "  <thead>\n",
              "    <tr style=\"text-align: right;\">\n",
              "      <th></th>\n",
              "      <th>Time</th>\n",
              "      <th>V1</th>\n",
              "      <th>V2</th>\n",
              "      <th>V3</th>\n",
              "      <th>V4</th>\n",
              "      <th>V5</th>\n",
              "      <th>V6</th>\n",
              "      <th>V7</th>\n",
              "      <th>V8</th>\n",
              "      <th>V9</th>\n",
              "      <th>V10</th>\n",
              "      <th>V11</th>\n",
              "      <th>V12</th>\n",
              "      <th>V13</th>\n",
              "      <th>V14</th>\n",
              "      <th>V15</th>\n",
              "      <th>V16</th>\n",
              "      <th>V17</th>\n",
              "      <th>V18</th>\n",
              "      <th>V19</th>\n",
              "      <th>V20</th>\n",
              "      <th>V21</th>\n",
              "      <th>V22</th>\n",
              "      <th>V23</th>\n",
              "      <th>V24</th>\n",
              "      <th>V25</th>\n",
              "      <th>V26</th>\n",
              "      <th>V27</th>\n",
              "      <th>V28</th>\n",
              "      <th>Amount</th>\n",
              "      <th>Class</th>\n",
              "    </tr>\n",
              "  </thead>\n",
              "  <tbody>\n",
              "    <tr>\n",
              "      <th>0</th>\n",
              "      <td>7029</td>\n",
              "      <td>-0.981672</td>\n",
              "      <td>1.465162</td>\n",
              "      <td>0.898816</td>\n",
              "      <td>0.229244</td>\n",
              "      <td>-0.192370</td>\n",
              "      <td>-0.580265</td>\n",
              "      <td>0.075814</td>\n",
              "      <td>0.502303</td>\n",
              "      <td>1.128964</td>\n",
              "      <td>-0.800285</td>\n",
              "      <td>0.587660</td>\n",
              "      <td>-3.095782</td>\n",
              "      <td>0.361054</td>\n",
              "      <td>1.567592</td>\n",
              "      <td>0.545859</td>\n",
              "      <td>0.232628</td>\n",
              "      <td>1.260933</td>\n",
              "      <td>-0.115020</td>\n",
              "      <td>-0.678458</td>\n",
              "      <td>-0.031567</td>\n",
              "      <td>-0.390740</td>\n",
              "      <td>-0.916208</td>\n",
              "      <td>0.103282</td>\n",
              "      <td>-0.081085</td>\n",
              "      <td>-0.231172</td>\n",
              "      <td>0.074539</td>\n",
              "      <td>0.211616</td>\n",
              "      <td>0.076662</td>\n",
              "      <td>8.99</td>\n",
              "      <td>0.0</td>\n",
              "    </tr>\n",
              "    <tr>\n",
              "      <th>1</th>\n",
              "      <td>2643</td>\n",
              "      <td>1.235152</td>\n",
              "      <td>0.107871</td>\n",
              "      <td>-0.068843</td>\n",
              "      <td>0.873224</td>\n",
              "      <td>0.308687</td>\n",
              "      <td>0.390010</td>\n",
              "      <td>-0.088297</td>\n",
              "      <td>0.164986</td>\n",
              "      <td>0.333870</td>\n",
              "      <td>0.022947</td>\n",
              "      <td>-1.636074</td>\n",
              "      <td>-1.012242</td>\n",
              "      <td>-1.439644</td>\n",
              "      <td>0.622509</td>\n",
              "      <td>1.541822</td>\n",
              "      <td>0.497261</td>\n",
              "      <td>-0.628104</td>\n",
              "      <td>-0.209320</td>\n",
              "      <td>-0.121652</td>\n",
              "      <td>-0.194923</td>\n",
              "      <td>-0.393477</td>\n",
              "      <td>-1.251328</td>\n",
              "      <td>0.026763</td>\n",
              "      <td>-1.429134</td>\n",
              "      <td>0.321594</td>\n",
              "      <td>-0.592952</td>\n",
              "      <td>0.023889</td>\n",
              "      <td>0.014569</td>\n",
              "      <td>24.66</td>\n",
              "      <td>0.0</td>\n",
              "    </tr>\n",
              "    <tr>\n",
              "      <th>2</th>\n",
              "      <td>5726</td>\n",
              "      <td>0.593305</td>\n",
              "      <td>-0.954352</td>\n",
              "      <td>-0.493094</td>\n",
              "      <td>0.861260</td>\n",
              "      <td>-0.135350</td>\n",
              "      <td>-0.018209</td>\n",
              "      <td>0.493690</td>\n",
              "      <td>-0.223737</td>\n",
              "      <td>1.245957</td>\n",
              "      <td>-0.477333</td>\n",
              "      <td>1.281992</td>\n",
              "      <td>-1.910603</td>\n",
              "      <td>1.439962</td>\n",
              "      <td>1.903475</td>\n",
              "      <td>-1.245939</td>\n",
              "      <td>0.150753</td>\n",
              "      <td>0.179190</td>\n",
              "      <td>0.523678</td>\n",
              "      <td>0.426557</td>\n",
              "      <td>0.598693</td>\n",
              "      <td>-0.004812</td>\n",
              "      <td>-0.484567</td>\n",
              "      <td>-0.535545</td>\n",
              "      <td>-0.509408</td>\n",
              "      <td>0.583817</td>\n",
              "      <td>0.513713</td>\n",
              "      <td>-0.155059</td>\n",
              "      <td>0.038810</td>\n",
              "      <td>368.00</td>\n",
              "      <td>0.0</td>\n",
              "    </tr>\n",
              "    <tr>\n",
              "      <th>3</th>\n",
              "      <td>19909</td>\n",
              "      <td>1.463935</td>\n",
              "      <td>-0.539306</td>\n",
              "      <td>0.274801</td>\n",
              "      <td>-0.434944</td>\n",
              "      <td>-0.740462</td>\n",
              "      <td>-0.332180</td>\n",
              "      <td>-0.757185</td>\n",
              "      <td>-0.120367</td>\n",
              "      <td>1.100284</td>\n",
              "      <td>0.162982</td>\n",
              "      <td>-0.620653</td>\n",
              "      <td>-3.820476</td>\n",
              "      <td>0.504742</td>\n",
              "      <td>1.179528</td>\n",
              "      <td>-1.021421</td>\n",
              "      <td>0.852644</td>\n",
              "      <td>1.183419</td>\n",
              "      <td>-1.061762</td>\n",
              "      <td>1.062216</td>\n",
              "      <td>-0.065586</td>\n",
              "      <td>-0.245140</td>\n",
              "      <td>-0.414189</td>\n",
              "      <td>-0.104947</td>\n",
              "      <td>-0.526130</td>\n",
              "      <td>0.603060</td>\n",
              "      <td>-0.225724</td>\n",
              "      <td>-0.021619</td>\n",
              "      <td>-0.005408</td>\n",
              "      <td>5.00</td>\n",
              "      <td>0.0</td>\n",
              "    </tr>\n",
              "    <tr>\n",
              "      <th>4</th>\n",
              "      <td>7019</td>\n",
              "      <td>-0.869825</td>\n",
              "      <td>0.828357</td>\n",
              "      <td>1.962723</td>\n",
              "      <td>-1.726934</td>\n",
              "      <td>0.116559</td>\n",
              "      <td>-0.456945</td>\n",
              "      <td>0.666188</td>\n",
              "      <td>-0.036267</td>\n",
              "      <td>2.095125</td>\n",
              "      <td>-2.126963</td>\n",
              "      <td>0.660880</td>\n",
              "      <td>-1.300530</td>\n",
              "      <td>2.414220</td>\n",
              "      <td>1.060239</td>\n",
              "      <td>-0.714668</td>\n",
              "      <td>-1.154527</td>\n",
              "      <td>0.897258</td>\n",
              "      <td>-0.665084</td>\n",
              "      <td>-0.179031</td>\n",
              "      <td>0.014320</td>\n",
              "      <td>-0.367981</td>\n",
              "      <td>-0.446467</td>\n",
              "      <td>-0.271398</td>\n",
              "      <td>0.044285</td>\n",
              "      <td>0.600158</td>\n",
              "      <td>-0.787099</td>\n",
              "      <td>0.311380</td>\n",
              "      <td>0.119218</td>\n",
              "      <td>7.45</td>\n",
              "      <td>0.0</td>\n",
              "    </tr>\n",
              "  </tbody>\n",
              "</table>\n",
              "</div>"
            ],
            "text/plain": [
              "    Time        V1        V2        V3  ...       V27       V28  Amount  Class\n",
              "0   7029 -0.981672  1.465162  0.898816  ...  0.211616  0.076662    8.99    0.0\n",
              "1   2643  1.235152  0.107871 -0.068843  ...  0.023889  0.014569   24.66    0.0\n",
              "2   5726  0.593305 -0.954352 -0.493094  ... -0.155059  0.038810  368.00    0.0\n",
              "3  19909  1.463935 -0.539306  0.274801  ... -0.021619 -0.005408    5.00    0.0\n",
              "4   7019 -0.869825  0.828357  1.962723  ...  0.311380  0.119218    7.45    0.0\n",
              "\n",
              "[5 rows x 31 columns]"
            ]
          },
          "metadata": {
            "tags": []
          },
          "execution_count": 44
        }
      ]
    },
    {
      "cell_type": "code",
      "metadata": {
        "colab": {
          "base_uri": "https://localhost:8080/"
        },
        "id": "NT3wAgB6hKrT",
        "outputId": "0a94a3dd-7a0c-439b-c804-ebcb643fbdb0"
      },
      "source": [
        "new_dataset['Class'].value_counts()"
      ],
      "execution_count": 45,
      "outputs": [
        {
          "output_type": "execute_result",
          "data": {
            "text/plain": [
              "1.0    52\n",
              "0.0    52\n",
              "Name: Class, dtype: int64"
            ]
          },
          "metadata": {
            "tags": []
          },
          "execution_count": 45
        }
      ]
    },
    {
      "cell_type": "markdown",
      "metadata": {
        "id": "5xthJDAWjqIb"
      },
      "source": [
        "Splitting the data into Features & Targets\n"
      ]
    },
    {
      "cell_type": "code",
      "metadata": {
        "id": "k21kLex0iuhK"
      },
      "source": [
        "X = new_dataset.drop(columns='Class', axis=1)\n",
        "Y = new_dataset['Class']"
      ],
      "execution_count": 46,
      "outputs": []
    },
    {
      "cell_type": "code",
      "metadata": {
        "colab": {
          "base_uri": "https://localhost:8080/"
        },
        "id": "d7NzgPG2jw9R",
        "outputId": "efa110d3-815c-401d-9098-8e889aa89ec1"
      },
      "source": [
        "print(X)"
      ],
      "execution_count": 47,
      "outputs": [
        {
          "output_type": "stream",
          "text": [
            "      Time         V1        V2  ...       V27       V28  Amount\n",
            "0     7029  -0.981672  1.465162  ...  0.211616  0.076662    8.99\n",
            "1     2643   1.235152  0.107871  ...  0.023889  0.014569   24.66\n",
            "2     5726   0.593305 -0.954352  ... -0.155059  0.038810  368.00\n",
            "3    19909   1.463935 -0.539306  ... -0.021619 -0.005408    5.00\n",
            "4     7019  -0.869825  0.828357  ...  0.311380  0.119218    7.45\n",
            "..     ...        ...       ...  ...       ...       ...     ...\n",
            "99   18690 -15.398845  7.472324  ...  2.262942 -1.178063    1.00\n",
            "100  19762 -14.179165  7.421370  ...  2.171905 -1.395288    1.00\n",
            "101  20011 -14.724627  7.875157  ...  2.161129 -1.401282    1.00\n",
            "102  20332 -15.271362  8.326581  ...  2.149247 -1.406811    1.00\n",
            "103  20451 -15.819179  8.775997  ...  2.136424 -1.411945    1.00\n",
            "\n",
            "[104 rows x 30 columns]\n"
          ],
          "name": "stdout"
        }
      ]
    },
    {
      "cell_type": "code",
      "metadata": {
        "colab": {
          "base_uri": "https://localhost:8080/"
        },
        "id": "OZCRhh6rjzlr",
        "outputId": "85290a5c-d18a-44f7-88e3-f0d36967cc66"
      },
      "source": [
        "print(Y)"
      ],
      "execution_count": 48,
      "outputs": [
        {
          "output_type": "stream",
          "text": [
            "0      0.0\n",
            "1      0.0\n",
            "2      0.0\n",
            "3      0.0\n",
            "4      0.0\n",
            "      ... \n",
            "99     1.0\n",
            "100    1.0\n",
            "101    1.0\n",
            "102    1.0\n",
            "103    1.0\n",
            "Name: Class, Length: 104, dtype: float64\n"
          ],
          "name": "stdout"
        }
      ]
    },
    {
      "cell_type": "markdown",
      "metadata": {
        "id": "_wrDudvAj75G"
      },
      "source": [
        "Split the data into Training data & Testing Data"
      ]
    },
    {
      "cell_type": "code",
      "metadata": {
        "id": "jbC_j1dij2YK"
      },
      "source": [
        "X_train, X_test, Y_train, Y_test = train_test_split(X, Y, test_size=0.2, stratify=Y, random_state=76)"
      ],
      "execution_count": 54,
      "outputs": []
    },
    {
      "cell_type": "code",
      "metadata": {
        "colab": {
          "base_uri": "https://localhost:8080/"
        },
        "id": "l4jNuhV4kISN",
        "outputId": "696a48b4-ad7e-4109-fc54-1c39227728de"
      },
      "source": [
        "print(X.shape, X_train.shape, X_test.shape)"
      ],
      "execution_count": 55,
      "outputs": [
        {
          "output_type": "stream",
          "text": [
            "(104, 30) (83, 30) (21, 30)\n"
          ],
          "name": "stdout"
        }
      ]
    },
    {
      "cell_type": "markdown",
      "metadata": {
        "id": "nuPcSRERkL7M"
      },
      "source": [
        "Model Training"
      ]
    },
    {
      "cell_type": "markdown",
      "metadata": {
        "id": "d9057othlWSC"
      },
      "source": [
        "Logistic Regression"
      ]
    },
    {
      "cell_type": "code",
      "metadata": {
        "id": "TAcTkdcqlak7"
      },
      "source": [
        "model = svm.SVC(kernel='linear')"
      ],
      "execution_count": 63,
      "outputs": []
    },
    {
      "cell_type": "code",
      "metadata": {
        "colab": {
          "base_uri": "https://localhost:8080/"
        },
        "id": "44VwwOuZlfZn",
        "outputId": "bf19c472-cf1b-46d1-847c-b7466ff7b57d"
      },
      "source": [
        "# training the Logistic Regression Model with Training Data\n",
        "model.fit(X_train, Y_train)"
      ],
      "execution_count": 65,
      "outputs": [
        {
          "output_type": "execute_result",
          "data": {
            "text/plain": [
              "SVC(C=1.0, break_ties=False, cache_size=200, class_weight=None, coef0=0.0,\n",
              "    decision_function_shape='ovr', degree=3, gamma='scale', kernel='linear',\n",
              "    max_iter=-1, probability=False, random_state=None, shrinking=True,\n",
              "    tol=0.001, verbose=False)"
            ]
          },
          "metadata": {
            "tags": []
          },
          "execution_count": 65
        }
      ]
    },
    {
      "cell_type": "markdown",
      "metadata": {
        "id": "TmE1Gax2lqFx"
      },
      "source": [
        "Model Evaluation"
      ]
    },
    {
      "cell_type": "code",
      "metadata": {
        "id": "m7BP6ynslgmd"
      },
      "source": [
        "# accuracy on training data\n",
        "X_train_prediction = model.predict(X_train)\n",
        "training_data_accuracy = accuracy_score(X_train_prediction, Y_train)"
      ],
      "execution_count": 66,
      "outputs": []
    },
    {
      "cell_type": "code",
      "metadata": {
        "colab": {
          "base_uri": "https://localhost:8080/"
        },
        "id": "7sTD0APnlv-9",
        "outputId": "ce22704e-c4e7-4f9a-abf9-50faaea180ec"
      },
      "source": [
        "print('Accuracy score on Training Data : ', training_data_accuracy)"
      ],
      "execution_count": 67,
      "outputs": [
        {
          "output_type": "stream",
          "text": [
            "Accuracy score on Training Data :  0.963855421686747\n"
          ],
          "name": "stdout"
        }
      ]
    },
    {
      "cell_type": "code",
      "metadata": {
        "colab": {
          "base_uri": "https://localhost:8080/"
        },
        "id": "57HRHbrxmKIK",
        "outputId": "2f73e5ea-bbdd-4121-dea2-39e08fc47701"
      },
      "source": [
        "# accuracy on test data\n",
        "X_test_prediction = model.predict(X_test)\n",
        "test_data_accuracy = accuracy_score(X_test_prediction, Y_test)\n",
        "print('Accuracy score on Test Data : ', test_data_accuracy)"
      ],
      "execution_count": 68,
      "outputs": [
        {
          "output_type": "stream",
          "text": [
            "Accuracy score on Test Data :  0.9523809523809523\n"
          ],
          "name": "stdout"
        }
      ]
    },
    {
      "cell_type": "code",
      "metadata": {
        "id": "VhiDETWinfWg"
      },
      "source": [
        ""
      ],
      "execution_count": null,
      "outputs": []
    }
  ]
}